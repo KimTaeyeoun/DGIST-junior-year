{
 "cells": [
  {
   "cell_type": "code",
   "execution_count": 1,
   "metadata": {
    "collapsed": false
   },
   "outputs": [
    {
     "name": "stdout",
     "output_type": "stream",
     "text": [
      "Requirement already satisfied: nltk in c:\\users\\user1\\anaconda3\\lib\\site-packages\n"
     ]
    }
   ],
   "source": [
    "!pip install nltk"
   ]
  },
  {
   "cell_type": "code",
   "execution_count": 2,
   "metadata": {
    "collapsed": false
   },
   "outputs": [
    {
     "name": "stdout",
     "output_type": "stream",
     "text": [
      "Requirement already up-to-date: pip in c:\\users\\user1\\anaconda3\\lib\\site-packages\n"
     ]
    }
   ],
   "source": [
    "!pip install --upgrade pip"
   ]
  },
  {
   "cell_type": "code",
   "execution_count": 5,
   "metadata": {
    "collapsed": false
   },
   "outputs": [
    {
     "name": "stdout",
     "output_type": "stream",
     "text": [
      "Processing c:\\users\\user1\\documents\\ugrp codes\\jpype1-0.6.2-cp35-cp35m-win_amd64.whl\n",
      "Installing collected packages: JPype1\n",
      "Successfully installed JPype1-0.6.2\n"
     ]
    }
   ],
   "source": [
    "!pip install JPype1-0.6.2-cp35-cp35m-win_amd64.whl"
   ]
  },
  {
   "cell_type": "code",
   "execution_count": 4,
   "metadata": {
    "collapsed": false
   },
   "outputs": [
    {
     "name": "stdout",
     "output_type": "stream",
     "text": [
      "Requirement already satisfied: konlpy in c:\\users\\user1\\anaconda3\\lib\\site-packages\n"
     ]
    }
   ],
   "source": [
    "!pip install konlpy"
   ]
  },
  {
   "cell_type": "code",
   "execution_count": 2,
   "metadata": {
    "collapsed": false
   },
   "outputs": [],
   "source": [
    "import jpype"
   ]
  },
  {
   "cell_type": "code",
   "execution_count": 3,
   "metadata": {
    "collapsed": true
   },
   "outputs": [],
   "source": [
    "from konlpy.tag import Komoran"
   ]
  },
  {
   "cell_type": "code",
   "execution_count": 10,
   "metadata": {
    "collapsed": false
   },
   "outputs": [
    {
     "name": "stdout",
     "output_type": "stream",
     "text": [
      "Collecting hanja\n",
      "  Downloading hanja-0.11.0.zip (140kB)\n",
      "Building wheels for collected packages: hanja\n",
      "  Running setup.py bdist_wheel for hanja: started\n",
      "  Running setup.py bdist_wheel for hanja: finished with status 'done'\n",
      "  Stored in directory: C:\\Users\\user1\\AppData\\Local\\pip\\Cache\\wheels\\0d\\f4\\77\\5378fa500818323964d347c1c116ba668725c14bbf25d9773a\n",
      "Successfully built hanja\n",
      "Installing collected packages: hanja\n",
      "Successfully installed hanja-0.11.0\n"
     ]
    }
   ],
   "source": [
    "!pip install hanja"
   ]
  },
  {
   "cell_type": "code",
   "execution_count": 12,
   "metadata": {
    "collapsed": false
   },
   "outputs": [],
   "source": [
    "from hanja import hangul"
   ]
  },
  {
   "cell_type": "code",
   "execution_count": 15,
   "metadata": {
    "collapsed": false
   },
   "outputs": [
    {
     "name": "stdout",
     "output_type": "stream",
     "text": [
      "(18, 0, 4)\n",
      "(0, 18, 8)\n",
      "덶\n"
     ]
    }
   ],
   "source": [
    "print(hangul.separate(u'한'))\n",
    "print(hangul.separate(u'글'))\n",
    "print(hangul.build(3,5,6))"
   ]
  },
  {
   "cell_type": "code",
   "execution_count": 2,
   "metadata": {
    "collapsed": false
   },
   "outputs": [],
   "source": [
    "from konlpy.tag import Kkma\n",
    "from konlpy.utils import pprint"
   ]
  },
  {
   "cell_type": "code",
   "execution_count": 3,
   "metadata": {
    "collapsed": false
   },
   "outputs": [],
   "source": [
    "kkma=Kkma()"
   ]
  },
  {
   "cell_type": "code",
   "execution_count": 5,
   "metadata": {
    "collapsed": false
   },
   "outputs": [
    {
     "name": "stdout",
     "output_type": "stream",
     "text": [
      "['네, 안녕하세요.', '반갑습니다.']\n"
     ]
    }
   ],
   "source": [
    "pprint(kkma.sentences('네, 안녕하세요. 반갑습니다.'))"
   ]
  },
  {
   "cell_type": "code",
   "execution_count": 6,
   "metadata": {
    "collapsed": false
   },
   "outputs": [
    {
     "name": "stdout",
     "output_type": "stream",
     "text": [
      "['질문', '건의', '건의사항', '사항', '깃헙', '이슈', '트래커']\n"
     ]
    }
   ],
   "source": [
    "pprint(kkma.nouns('질문이나 건의사항은 깃헙 이슈 트래커에 남겨주세요.'))"
   ]
  },
  {
   "cell_type": "code",
   "execution_count": 35,
   "metadata": {
    "collapsed": false
   },
   "outputs": [
    {
     "name": "stdout",
     "output_type": "stream",
     "text": [
      "[('오류', 'NNG'),\n",
      " ('보고', 'NNG'),\n",
      " ('는', 'JX'),\n",
      " ('생', 'NNG'),\n",
      " ('행', 'NNG'),\n",
      " ('환경', 'NNG'),\n",
      " (',', 'SP'),\n",
      " ('에러', 'NNG'),\n",
      " ('메세지', 'NNG'),\n",
      " ('와', 'JKM'),\n",
      " ('함께', 'MAG'),\n",
      " ('설명', 'NNG'),\n",
      " ('을', 'JKO'),\n",
      " ('최대한', 'NNG'),\n",
      " ('상세히', 'MAG'),\n",
      " ('!', 'SF'),\n",
      " ('^^', 'EMO')]\n",
      "True\n"
     ]
    }
   ],
   "source": [
    "data=pprint(kkma.pos('오류보고는 생행환경, 에러메세지와 함께 설명을 최대한 상세히!^^'))\n",
    "print(data==None)"
   ]
  },
  {
   "cell_type": "code",
   "execution_count": 4,
   "metadata": {
    "collapsed": false
   },
   "outputs": [],
   "source": [
    "f=open(\"data.txt\", \"r\", encoding=\"utf8\")\n",
    "fi=open(\"data2.txt\",\"w\", encoding=\"utf8\")\n",
    "fii=open(\"data4.txt\",\"w\",encoding=\"utf8\")\n",
    "for line in f.readlines():\n",
    "    items = line.strip().split(\"\\t\")\n",
    "    print(items)\n",
    "    data1=kkma.nouns(items[0])\n",
    "    data2=\" \".join(data1)\n",
    "    data2=data2+\"\\n\"\n",
    "    fi.write(data2)\n",
    "    data3=kkma.pos(items[0])\n",
    "    data3=str(data3)\n",
    "    data4=\" \".join(data3)\n",
    "    data4=data4+\"\\n\"\n",
    "    fii.write(data4)\n",
    "f.close()\n",
    "fi.close()\n",
    "fii.close()"
   ]
  },
  {
   "cell_type": "code",
   "execution_count": 27,
   "metadata": {
    "collapsed": false
   },
   "outputs": [],
   "source": [
    "%run srt2txt.py"
   ]
  }
 ],
 "metadata": {
  "anaconda-cloud": {},
  "kernelspec": {
   "display_name": "Python [default]",
   "language": "python",
   "name": "python3"
  },
  "language_info": {
   "codemirror_mode": {
    "name": "ipython",
    "version": 3
   },
   "file_extension": ".py",
   "mimetype": "text/x-python",
   "name": "python",
   "nbconvert_exporter": "python",
   "pygments_lexer": "ipython3",
   "version": "3.5.2"
  }
 },
 "nbformat": 4,
 "nbformat_minor": 1
}
